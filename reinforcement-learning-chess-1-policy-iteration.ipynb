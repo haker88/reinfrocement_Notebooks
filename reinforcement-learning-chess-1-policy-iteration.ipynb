{
 "cells": [
  {
   "cell_type": "markdown",
   "metadata": {},
   "source": [
    "# Reinforcement Learning Chess\n",
    "Hi there! If you're interested in learning about reinforcement learning, you are in the right place. As we all know the best way to learn about a topic is to build something and make a kernel about it. My plan is to make a series of notebooks where I work may way towards a full-fledged chess AI named RLC (Reinforcement Learning Chess). \n",
    "\n",
    "Tackling chess is a big challenge, mainly because of its huge state-space. Therefore I start with simpler forms of chess and solve these problems with elementary RL-techniques. Gradually I will expand this untill we end up in a chess AI that can play actual games of chess somewhat intelligibly. The forms of chess I want to cover in my notebooks are:  \n",
    "\n",
    "#### 1. Move Chess \n",
    "- Goal: Learn to find the shortest path between 2 squares on a chess board  \n",
    "- Motivation: Move Chess has a small statespace, which allows us to tackle this with simple RL algorithms.\n",
    "- Concepts: Dynamic Programming, Policy Evaluation, Policy Improvement, Policy Iteration, Value Iteration, Synchronous & Asynchronous back-ups, Monte Carlo (MC) Prediction, MC Control, Temporal Difference (TD) Learning, TD control, TD-lambda, SARSA(-max)\n",
    "\n",
    "#### 2. Capture Chess\n",
    "- Goal: Capture as many pieces from the opponent within n fullmoves\n",
    "- Motivation: Piece captures happen more frequently than win-lose-draw events. This give the algorithm more information to learn from.\n",
    "- Concepts: Q-learning, value function approximation, experience replay, fixed-q-targets, policy gradients, REINFORCE, actor-critic\n",
    "\n",
    "\n",
    "#### 3. Real Chess (a.k.a. chess)\n",
    "- Goal: Play chess competitively against a human beginner\n",
    "- Motivation: A RL chess AI\n",
    "- Concepts: Monte Carlo Tree Search\n",
    "\n",
    "#### Other notebooks\n",
    "[**Notebook 2: Model free learning**](https://www.kaggle.com/arjanso/reinforcement-learning-chess-2-model-free-methods)  \n",
    "[**Notebook 3: Q-networks**](https://www.kaggle.com/arjanso/reinforcement-learning-chess-3-q-networks)  \n",
    "[**Notebook 4: Policy Gradients**](https://www.kaggle.com/arjanso/reinforcement-learning-chess-4-policy-gradients)  \n",
    "[**Notebook 5: Monte Carlo Tree Search**](https://www.kaggle.com/arjanso/reinforcement-learning-chess-5-tree-search)\n",
    "\n",
    "\n",
    "In my notebooks, I will describe and reference the Reinforcement Learning theory but I will not fully explain it. For that there are resources available that do a match better job at explaining RL than I could. For that my advice would be to check out David Silver's (Deepmind) lectures that are available on Youtube and the book Introduction to Reinforcement Learning by Sutton and Barto referenced below."
   ]
  },
  {
   "cell_type": "markdown",
   "metadata": {},
   "source": [
    "# Notebook I: Solving Move Chess"
   ]
  },
  {
   "cell_type": "code",
   "execution_count": 1,
   "metadata": {
    "_cell_guid": "b1076dfc-b9ad-4769-8c92-a6c4dae69d19",
    "_uuid": "8f2839f25d086af736a60e9eeb907d3b93b6e0e5"
   },
   "outputs": [],
   "source": [
    "import numpy as np # linear algebra\n",
    "import pandas as pd # data processing, CSV file I/O (e.g. pd.read_csv)\n",
    "import os\n",
    "import inspect"
   ]
  },
  {
   "cell_type": "code",
   "execution_count": 2,
   "metadata": {
    "_cell_guid": "79c7e3d0-c299-4dcb-8224-4455121ee9b0",
    "_kg_hide-output": true,
    "_uuid": "d629ff2d2480ee46fbb7e2d37f6b5fab8052498a"
   },
   "outputs": [
    {
     "name": "stdout",
     "output_type": "stream",
     "text": [
      "Collecting python-chess\r\n",
      "\u001b[?25l  Downloading https://files.pythonhosted.org/packages/74/f3/b0caa4307443926d9f9ba8752270a8fc159e3ac6c9859c4615244c5ba74c/python_chess-0.30.0-py3-none-any.whl (127kB)\r\n",
      "\u001b[K     |████████████████████████████████| 133kB 2.9MB/s \r\n",
      "\u001b[?25hInstalling collected packages: python-chess\r\n",
      "Successfully installed python-chess-0.30.0\r\n",
      "Collecting git+https://github.com/arjangroen/RLC.git\r\n",
      "  Cloning https://github.com/arjangroen/RLC.git to /tmp/pip-req-build-zieqpc5r\r\n",
      "  Running command git clone -q https://github.com/arjangroen/RLC.git /tmp/pip-req-build-zieqpc5r\r\n",
      "Building wheels for collected packages: RLC\r\n",
      "  Building wheel for RLC (setup.py) ... \u001b[?25l-\b \b\\\b \bdone\r\n",
      "\u001b[?25h  Stored in directory: /tmp/pip-ephem-wheel-cache-tobocsdb/wheels/04/68/a5/cb835cd3d76a49de696a942739c71a56bfe66d0d8ea7b4b446\r\n",
      "Successfully built RLC\r\n",
      "Installing collected packages: RLC\r\n",
      "Successfully installed RLC-0.3\r\n"
     ]
    }
   ],
   "source": [
    "!pip install python-chess  # Python-Chess is the Python Chess Package that handles the chess environment\n",
    "!pip install --upgrade git+https://github.com/arjangroen/RLC.git  # RLC is the Reinforcement Learning package"
   ]
  },
  {
   "cell_type": "code",
   "execution_count": 3,
   "metadata": {},
   "outputs": [],
   "source": [
    "%load_ext autoreload\n",
    "%autoreload 2\n"
   ]
  },
  {
   "cell_type": "code",
   "execution_count": 4,
   "metadata": {},
   "outputs": [],
   "source": [
    "from RLC.move_chess.environment import Board\n",
    "from RLC.move_chess.agent import Piece\n",
    "from RLC.move_chess.learn import Reinforce"
   ]
  },
  {
   "cell_type": "markdown",
   "metadata": {},
   "source": [
    "### The environment"
   ]
  },
  {
   "cell_type": "markdown",
   "metadata": {},
   "source": [
    "- The state space is a 8 by 8 grid\n",
    "- The starting state S is the top-left square (0,0)\n",
    "- The terminal state F is square (5,7). \n",
    "- Every move from state to state gives a reward of minus 1\n",
    "- Naturally the best policy for this evironment is to move from S to F in the lowest amount of moves possible."
   ]
  },
  {
   "cell_type": "code",
   "execution_count": 5,
   "metadata": {},
   "outputs": [
    {
     "data": {
      "text/plain": [
       "[['[S]', '[ ]', '[ ]', '[ ]', '[ ]', '[ ]', '[ ]', '[ ]'],\n",
       " ['[ ]', '[ ]', '[ ]', '[ ]', '[ ]', '[ ]', '[ ]', '[ ]'],\n",
       " ['[ ]', '[ ]', '[ ]', '[ ]', '[ ]', '[ ]', '[ ]', '[ ]'],\n",
       " ['[ ]', '[ ]', '[ ]', '[ ]', '[ ]', '[ ]', '[ ]', '[ ]'],\n",
       " ['[ ]', '[ ]', '[ ]', '[ ]', '[ ]', '[ ]', '[ ]', '[ ]'],\n",
       " ['[ ]', '[ ]', '[ ]', '[ ]', '[ ]', '[ ]', '[ ]', '[ ]'],\n",
       " ['[ ]', '[ ]', '[ ]', '[ ]', '[ ]', '[ ]', '[ ]', '[ ]'],\n",
       " ['[ ]', '[ ]', '[ ]', '[ ]', '[ ]', '[F]', '[ ]', '[ ]']]"
      ]
     },
     "execution_count": 5,
     "metadata": {},
     "output_type": "execute_result"
    }
   ],
   "source": [
    "env = Board()\n",
    "env.render()\n",
    "env.visual_board"
   ]
  },
  {
   "cell_type": "markdown",
   "metadata": {},
   "source": [
    "### The agent\n",
    "- The agent is a chess Piece (king, queen, rook, knight or bishop)\n",
    "- The agent has a behavior policy determining what the agent does in what state"
   ]
  },
  {
   "cell_type": "code",
   "execution_count": 6,
   "metadata": {},
   "outputs": [],
   "source": [
    "p = Piece(piece='king')"
   ]
  },
  {
   "cell_type": "markdown",
   "metadata": {},
   "source": [
    "### Reinforce\n",
    "- The reinforce object contains the algorithms for solving move chess\n",
    "- The agent and the environment are attributes of the Reinforce object"
   ]
  },
  {
   "cell_type": "code",
   "execution_count": 7,
   "metadata": {},
   "outputs": [],
   "source": [
    "r = Reinforce(p,env)"
   ]
  },
  {
   "cell_type": "markdown",
   "metadata": {},
   "source": [
    "# 1.1 State Evaluation"
   ]
  },
  {
   "cell_type": "markdown",
   "metadata": {},
   "source": [
    "**Theory**\n",
    "\n",
    "If we want our agent to optimize its rewards, we want its policy to guide behavior towards the states with the highest value. This value can be estimated using bootstrapping:\n",
    "* A state (s) is as valuable (V) as the successor state (s') plus the reward (R) for going from s to s'. \n",
    "* Since there can be mulitple actions (a) and multiple successor states they are summed and weighted by their probability (pi). \n",
    "* In a non-deterministic environment, a given action could result in multiple successor states. We don't have to take this into account for this problem because move chess is a deterministic game.\n",
    "* Successor state values are discounted with discount factor (gamma) that varies between 0 and 1.  \n",
    "* This gives us the following formula:  \n",
    "![](http://incompleteideas.net/book/ebook/numeqnarraytmp7-2-2.png)  \n",
    "\n",
    "Note that:\n",
    "* The successor state value is also en estimate. \n",
    "* Evaluating a state is bootstrapping because you are making an estimate based on another estimate\n",
    "* In the code you'll see a synchronous parameter that will be explained later in the policy evaluation section\n",
    "\n"
   ]
  },
  {
   "cell_type": "markdown",
   "metadata": {},
   "source": [
    "**Python Implementation**"
   ]
  },
  {
   "cell_type": "code",
   "execution_count": 8,
   "metadata": {},
   "outputs": [
    {
     "name": "stdout",
     "output_type": "stream",
     "text": [
      "    def evaluate_state(self, state, gamma=0.9, synchronous=True):\n",
      "        \"\"\"\n",
      "        Calculates the value of a state based on the successor states and the immediate rewards.\n",
      "        Args:\n",
      "            state: tuple of 2 integers 0-7 representing the state\n",
      "            gamma: float, discount factor\n",
      "            synchronous: Boolean\n",
      "\n",
      "        Returns: The expected value of the state under the current policy.\n",
      "\n",
      "        \"\"\"\n",
      "        greedy_action_value = np.max(self.agent.policy[state[0], state[1], :])\n",
      "        greedy_indices = [i for i, a in enumerate(self.agent.policy[state[0], state[1], :]) if\n",
      "                          a == greedy_action_value]  # List of all greedy actions\n",
      "        prob = 1 / len(greedy_indices)  # probability of an action occuring\n",
      "        state_value = 0\n",
      "        for i in greedy_indices:\n",
      "            self.env.state = state  # reset state to the one being evaluated\n",
      "            reward, episode_end = self.env.step(self.agent.action_space[i])\n",
      "            if synchronous:\n",
      "                successor_state_value = self.agent.value_function_prev[self.env.state]\n",
      "            else:\n",
      "                successor_state_value = self.agent.value_function[self.env.state]\n",
      "            state_value += (prob * (\n",
      "                    reward + gamma * successor_state_value))  # sum up rewards and discounted successor state value\n",
      "        return state_value\n",
      "\n"
     ]
    }
   ],
   "source": [
    "print(inspect.getsource(r.evaluate_state))"
   ]
  },
  {
   "cell_type": "markdown",
   "metadata": {},
   "source": [
    "**Demonstration**\n",
    "* The initial value function assigns value 0 to each state\n",
    "* The initial policy gives an equal probability to each action\n",
    "* We evaluate state (0,0)"
   ]
  },
  {
   "cell_type": "code",
   "execution_count": 9,
   "metadata": {},
   "outputs": [
    {
     "data": {
      "text/plain": [
       "array([[0, 0, 0, 0, 0, 0, 0, 0],\n",
       "       [0, 0, 0, 0, 0, 0, 0, 0],\n",
       "       [0, 0, 0, 0, 0, 0, 0, 0],\n",
       "       [0, 0, 0, 0, 0, 0, 0, 0],\n",
       "       [0, 0, 0, 0, 0, 0, 0, 0],\n",
       "       [0, 0, 0, 0, 0, 0, 0, 0],\n",
       "       [0, 0, 0, 0, 0, 0, 0, 0],\n",
       "       [0, 0, 0, 0, 0, 0, 0, 0]])"
      ]
     },
     "execution_count": 9,
     "metadata": {},
     "output_type": "execute_result"
    }
   ],
   "source": [
    "r.agent.value_function.astype(int)"
   ]
  },
  {
   "cell_type": "code",
   "execution_count": 10,
   "metadata": {},
   "outputs": [],
   "source": [
    "state = (0,0)\n",
    "r.agent.value_function[0,0] = r.evaluate_state(state,gamma=1)"
   ]
  },
  {
   "cell_type": "code",
   "execution_count": 11,
   "metadata": {},
   "outputs": [
    {
     "data": {
      "text/plain": [
       "array([[-1,  0,  0,  0,  0,  0,  0,  0],\n",
       "       [ 0,  0,  0,  0,  0,  0,  0,  0],\n",
       "       [ 0,  0,  0,  0,  0,  0,  0,  0],\n",
       "       [ 0,  0,  0,  0,  0,  0,  0,  0],\n",
       "       [ 0,  0,  0,  0,  0,  0,  0,  0],\n",
       "       [ 0,  0,  0,  0,  0,  0,  0,  0],\n",
       "       [ 0,  0,  0,  0,  0,  0,  0,  0],\n",
       "       [ 0,  0,  0,  0,  0,  0,  0,  0]])"
      ]
     },
     "execution_count": 11,
     "metadata": {},
     "output_type": "execute_result"
    }
   ],
   "source": [
    "r.agent.value_function.astype(int)"
   ]
  },
  {
   "cell_type": "markdown",
   "metadata": {},
   "source": [
    "# 1.2 Policy Evaluation\n",
    "* Policy evaluation is the act of doe state evaluation for each state in the statespace\n",
    "* As you can see in my implementatin I simply iterate over all state and update the value function\n",
    "* This is the algorithm provided by Sutton and Barto:  \n",
    "![](http://incompleteideas.net/book/ebook/pseudotmp0.png)\n"
   ]
  },
  {
   "cell_type": "code",
   "execution_count": 12,
   "metadata": {},
   "outputs": [
    {
     "name": "stdout",
     "output_type": "stream",
     "text": [
      "    def evaluate_policy(self, gamma=0.9, synchronous=True):\n",
      "        self.agent.value_function_prev = self.agent.value_function.copy()  # For synchronous updates\n",
      "        for row in range(self.agent.value_function.shape[0]):\n",
      "            for col in range(self.agent.value_function.shape[1]):\n",
      "                self.agent.value_function[row, col] = self.evaluate_state((row, col), gamma=gamma,\n",
      "                                                                          synchronous=synchronous)\n",
      "\n"
     ]
    }
   ],
   "source": [
    "print(inspect.getsource(r.evaluate_policy))"
   ]
  },
  {
   "cell_type": "code",
   "execution_count": 13,
   "metadata": {},
   "outputs": [],
   "source": [
    "r.evaluate_policy(gamma=1)"
   ]
  },
  {
   "cell_type": "markdown",
   "metadata": {},
   "source": [
    "We end up with the following value of -1 for all states except the terminal state. "
   ]
  },
  {
   "cell_type": "code",
   "execution_count": 14,
   "metadata": {},
   "outputs": [
    {
     "data": {
      "text/plain": [
       "array([[-1, -1, -1, -1, -1, -1, -1, -1],\n",
       "       [-1, -1, -1, -1, -1, -1, -1, -1],\n",
       "       [-1, -1, -1, -1, -1, -1, -1, -1],\n",
       "       [-1, -1, -1, -1, -1, -1, -1, -1],\n",
       "       [-1, -1, -1, -1, -1, -1, -1, -1],\n",
       "       [-1, -1, -1, -1, -1, -1, -1, -1],\n",
       "       [-1, -1, -1, -1, -1, -1, -1, -1],\n",
       "       [-1, -1, -1, -1, -1,  0, -1, -1]])"
      ]
     },
     "execution_count": 14,
     "metadata": {},
     "output_type": "execute_result"
    }
   ],
   "source": [
    "r.agent.value_function.astype(int)"
   ]
  },
  {
   "cell_type": "markdown",
   "metadata": {},
   "source": [
    "We can iterate this until the value function is stable:"
   ]
  },
  {
   "cell_type": "markdown",
   "metadata": {},
   "source": [
    "**Demonstration**"
   ]
  },
  {
   "cell_type": "code",
   "execution_count": 15,
   "metadata": {},
   "outputs": [
    {
     "name": "stdout",
     "output_type": "stream",
     "text": [
      "converged at iter 428\n"
     ]
    }
   ],
   "source": [
    "eps=0.1\n",
    "k_max = 1000\n",
    "value_delta_max = 0\n",
    "gamma = 1\n",
    "synchronous=True\n",
    "value_delta_max = 0\n",
    "for k in range(k_max):\n",
    "    r.evaluate_policy(gamma=gamma,synchronous=synchronous)\n",
    "    value_delta = np.max(np.abs(r.agent.value_function_prev - r.agent.value_function))\n",
    "    value_delta_max = value_delta\n",
    "    if value_delta_max < eps:\n",
    "        print('converged at iter',k)\n",
    "        break"
   ]
  },
  {
   "cell_type": "markdown",
   "metadata": {},
   "source": [
    "This value function below shows the expected discounted future reward from state (0,0) = -185"
   ]
  },
  {
   "cell_type": "code",
   "execution_count": 16,
   "metadata": {},
   "outputs": [
    {
     "data": {
      "text/plain": [
       "array([[-185, -183, -181, -179, -177, -175, -174, -175],\n",
       "       [-182, -181, -179, -177, -174, -172, -171, -171],\n",
       "       [-179, -177, -175, -172, -168, -166, -165, -164],\n",
       "       [-174, -172, -169, -164, -160, -156, -154, -154],\n",
       "       [-169, -167, -161, -154, -147, -142, -139, -139],\n",
       "       [-164, -161, -154, -142, -131, -122, -119, -120],\n",
       "       [-161, -157, -147, -131, -106,  -93,  -92, -102],\n",
       "       [-160, -156, -145, -126,  -93,    0,  -77,  -93]])"
      ]
     },
     "execution_count": 16,
     "metadata": {},
     "output_type": "execute_result"
    }
   ],
   "source": [
    "r.agent.value_function.astype(int)"
   ]
  },
  {
   "cell_type": "markdown",
   "metadata": {},
   "source": [
    "# Policy Improvement"
   ]
  },
  {
   "cell_type": "markdown",
   "metadata": {},
   "source": [
    "Now that we know what the values of the states are, we want to improve our Policy so that we the behavior is guided towards the state with the highest value. Policy Improvement is simply the act of making the policy greedy with respect to the value function.\n",
    "* In my implementation, we do this by setting the value of the action that leads to the most valuable state to 1 (while the rest remains 0)"
   ]
  },
  {
   "cell_type": "code",
   "execution_count": 17,
   "metadata": {},
   "outputs": [
    {
     "name": "stdout",
     "output_type": "stream",
     "text": [
      "    def improve_policy(self):\n",
      "        \"\"\"\n",
      "        Finds the greedy policy w.r.t. the current value function\n",
      "        \"\"\"\n",
      "\n",
      "        self.agent.policy_prev = self.agent.policy.copy()\n",
      "        for row in range(self.agent.action_function.shape[0]):\n",
      "            for col in range(self.agent.action_function.shape[1]):\n",
      "                for action in range(self.agent.action_function.shape[2]):\n",
      "                    self.env.state = (row, col)  # reset state to the one being evaluated\n",
      "                    reward, episode_end = self.env.step(self.agent.action_space[action])\n",
      "                    successor_state_value = 0 if episode_end else self.agent.value_function[self.env.state]\n",
      "                    self.agent.policy[row, col, action] = reward + successor_state_value\n",
      "\n",
      "                max_policy_value = np.max(self.agent.policy[row, col, :])\n",
      "                max_indices = [i for i, a in enumerate(self.agent.policy[row, col, :]) if a == max_policy_value]\n",
      "                for idx in max_indices:\n",
      "                    self.agent.policy[row, col, idx] = 1\n",
      "\n"
     ]
    }
   ],
   "source": [
    "print(inspect.getsource(r.improve_policy))"
   ]
  },
  {
   "cell_type": "code",
   "execution_count": 18,
   "metadata": {},
   "outputs": [
    {
     "name": "stdout",
     "output_type": "stream",
     "text": [
      "[['↘', '↘', '↘', '↘', '↘', '↘', '↓', '↙'],\n",
      " ['↘', '↘', '↘', '↘', '↘', '↘', '↘', '↓'],\n",
      " ['↘', '↘', '↘', '↘', '↘', '↘', '↘', '↓'],\n",
      " ['↘', '↘', '↘', '↘', '↘', '↘', '↘', '↓'],\n",
      " ['↘', '↘', '↘', '↘', '↘', '↘', '↓', '↙'],\n",
      " ['↘', '↘', '↘', '↘', '↘', '↘', '↓', '↙'],\n",
      " ['↘', '↘', '↘', '↘', '↘', '↓', '↙', '↙'],\n",
      " ['→', '→', '→', '→', '→', 'F', '←', '←']]\n"
     ]
    }
   ],
   "source": [
    "r.improve_policy()\n",
    "r.visualize_policy()"
   ]
  },
  {
   "cell_type": "markdown",
   "metadata": {},
   "source": [
    "* Please note that my visual can print only 1 arrow per square, but there may be multiple optimal actions."
   ]
  },
  {
   "cell_type": "markdown",
   "metadata": {},
   "source": [
    "# 1.3 Policy Iteration  \n",
    "**Theory**  \n",
    "We can now find the optimal policy by doing policy evaluation and policy improvement untill the policy is stable:\n",
    "![](http://www.incompleteideas.net/book/first/ebook/pseudotmp1.png)"
   ]
  },
  {
   "cell_type": "markdown",
   "metadata": {},
   "source": [
    "**Python implementation**"
   ]
  },
  {
   "cell_type": "code",
   "execution_count": 19,
   "metadata": {},
   "outputs": [
    {
     "name": "stdout",
     "output_type": "stream",
     "text": [
      "    def policy_iteration(self, eps=0.1, gamma=0.9, iteration=1, k=32, synchronous=True):\n",
      "        \"\"\"\n",
      "        Finds the optimal policy\n",
      "        Args:\n",
      "            eps: float, exploration rate\n",
      "            gamma: float, discount factor\n",
      "            iteration: the iteration number\n",
      "            k: (int) maximum amount of policy evaluation iterations\n",
      "            synchronous: (Boolean) whether to use synchronous are asynchronous back-ups \n",
      "\n",
      "        Returns:\n",
      "\n",
      "        \"\"\"\n",
      "        policy_stable = True\n",
      "        print(\"\\n\\n______iteration:\", iteration, \"______\")\n",
      "        print(\"\\n policy:\")\n",
      "        self.visualize_policy()\n",
      "\n",
      "        print(\"\")\n",
      "        value_delta_max = 0\n",
      "        for _ in range(k):\n",
      "            self.evaluate_policy(gamma=gamma, synchronous=synchronous)\n",
      "            value_delta = np.max(np.abs(self.agent.value_function_prev - self.agent.value_function))\n",
      "            value_delta_max = value_delta\n",
      "            if value_delta_max < eps:\n",
      "                break\n",
      "        print(\"Value function for this policy:\")\n",
      "        print(self.agent.value_function.round().astype(int))\n",
      "        action_function_prev = self.agent.action_function.copy()\n",
      "        print(\"\\n Improving policy:\")\n",
      "        self.improve_policy()\n",
      "        policy_stable = self.agent.compare_policies() < 1\n",
      "        print(\"policy diff:\", policy_stable)\n",
      "\n",
      "        if not policy_stable and iteration < 1000:\n",
      "            iteration += 1\n",
      "            self.policy_iteration(iteration=iteration)\n",
      "        elif policy_stable:\n",
      "            print(\"Optimal policy found in\", iteration, \"steps of policy evaluation\")\n",
      "        else:\n",
      "            print(\"failed to converge.\")\n",
      "\n"
     ]
    }
   ],
   "source": [
    "print(inspect.getsource(r.policy_iteration))"
   ]
  },
  {
   "cell_type": "markdown",
   "metadata": {},
   "source": [
    "**Demonstration**"
   ]
  },
  {
   "cell_type": "code",
   "execution_count": 20,
   "metadata": {},
   "outputs": [
    {
     "name": "stdout",
     "output_type": "stream",
     "text": [
      "\n",
      "\n",
      "______iteration: 1 ______\n",
      "\n",
      " policy:\n",
      "[['↘', '↘', '↘', '↘', '↘', '↘', '↓', '↙'],\n",
      " ['↘', '↘', '↘', '↘', '↘', '↘', '↘', '↓'],\n",
      " ['↘', '↘', '↘', '↘', '↘', '↘', '↘', '↓'],\n",
      " ['↘', '↘', '↘', '↘', '↘', '↘', '↘', '↓'],\n",
      " ['↘', '↘', '↘', '↘', '↘', '↘', '↓', '↙'],\n",
      " ['↘', '↘', '↘', '↘', '↘', '↘', '↓', '↙'],\n",
      " ['↘', '↘', '↘', '↘', '↘', '↓', '↙', '↙'],\n",
      " ['→', '→', '→', '→', '→', 'F', '←', '←']]\n",
      "\n",
      "Value function for this policy:\n",
      "[[-5 -5 -5 -5 -5 -5 -5 -5]\n",
      " [-5 -5 -5 -5 -5 -5 -5 -5]\n",
      " [-4 -4 -4 -4 -4 -4 -4 -4]\n",
      " [-4 -3 -3 -3 -3 -3 -3 -3]\n",
      " [-4 -3 -3 -3 -3 -3 -3 -3]\n",
      " [-4 -3 -3 -2 -2 -2 -2 -2]\n",
      " [-4 -3 -3 -2 -1 -1 -1 -2]\n",
      " [-4 -3 -3 -2 -1  0 -1 -2]]\n",
      "\n",
      " Improving policy:\n",
      "policy diff: False\n",
      "\n",
      "\n",
      "______iteration: 2 ______\n",
      "\n",
      " policy:\n",
      "[['↘', '↘', '↘', '↘', '↘', '↘', '↘', '↓'],\n",
      " ['↘', '↘', '↘', '↘', '↘', '↘', '↘', '↓'],\n",
      " ['↘', '↘', '↘', '↘', '↘', '↘', '↘', '↓'],\n",
      " ['→', '↘', '↘', '↘', '↘', '↘', '↘', '↓'],\n",
      " ['↗', '→', '↘', '↘', '↘', '↘', '↘', '↓'],\n",
      " ['↗', '↗', '→', '↘', '↘', '↘', '↓', '↙'],\n",
      " ['↗', '↗', '↗', '→', '↘', '↓', '↙', '↙'],\n",
      " ['↗', '↗', '↗', '↗', '→', 'F', '←', '←']]\n",
      "\n",
      "Value function for this policy:\n",
      "[[-5 -5 -5 -5 -5 -5 -5 -5]\n",
      " [-5 -5 -5 -5 -5 -5 -5 -5]\n",
      " [-4 -4 -4 -4 -4 -4 -4 -4]\n",
      " [-4 -3 -3 -3 -3 -3 -3 -3]\n",
      " [-4 -3 -3 -3 -3 -3 -3 -3]\n",
      " [-4 -3 -3 -2 -2 -2 -2 -2]\n",
      " [-4 -3 -3 -2 -1 -1 -1 -2]\n",
      " [-4 -3 -3 -2 -1  0 -1 -2]]\n",
      "\n",
      " Improving policy:\n",
      "policy diff: True\n",
      "Optimal policy found in 2 steps of policy evaluation\n"
     ]
    }
   ],
   "source": [
    "r.policy_iteration()"
   ]
  },
  {
   "cell_type": "markdown",
   "metadata": {},
   "source": [
    "# 1.4 Asynchronous Policy Iteration\n"
   ]
  },
  {
   "cell_type": "markdown",
   "metadata": {},
   "source": [
    "**Theory**  \n",
    "With policy evaluation, we bootstrap: we make an estimate based on another estimate. So which estimate do we take? We have to options:\n",
    "1. We bootstrap from the previous policy evaluation. This means each state value estimate update is based on the same iteration of policy evaluation. This is called synchronous policy iteration\n",
    "2. We bootstrap from the freshest estimate. This means a estimate update can be based on the previous or the current value funtion, or a combination of the two. This is called asynchrronous policy iteration\n",
    "\n",
    "The **Implementation** is the same as policy iteration, only we pass the argument sychronous=False"
   ]
  },
  {
   "cell_type": "markdown",
   "metadata": {},
   "source": [
    "**Demonstration**"
   ]
  },
  {
   "cell_type": "code",
   "execution_count": 21,
   "metadata": {},
   "outputs": [],
   "source": [
    "agent = Piece(piece='king')\n",
    "r = Reinforce(agent,env)"
   ]
  },
  {
   "cell_type": "code",
   "execution_count": 22,
   "metadata": {},
   "outputs": [
    {
     "name": "stdout",
     "output_type": "stream",
     "text": [
      "\n",
      "\n",
      "______iteration: 1 ______\n",
      "\n",
      " policy:\n",
      "[['↑', '↑', '↑', '↑', '↑', '↑', '↑', '↑'],\n",
      " ['↑', '↑', '↑', '↑', '↑', '↑', '↑', '↑'],\n",
      " ['↑', '↑', '↑', '↑', '↑', '↑', '↑', '↑'],\n",
      " ['↑', '↑', '↑', '↑', '↑', '↑', '↑', '↑'],\n",
      " ['↑', '↑', '↑', '↑', '↑', '↑', '↑', '↑'],\n",
      " ['↑', '↑', '↑', '↑', '↑', '↑', '↑', '↑'],\n",
      " ['↑', '↑', '↑', '↑', '↑', '↑', '↑', '↑'],\n",
      " ['↑', '↑', '↑', '↑', '↑', 'F', '↑', '↑']]\n",
      "\n",
      "Value function for this policy:\n",
      "[[-47 -48 -48 -49 -48 -48 -48 -48]\n",
      " [-48 -49 -49 -49 -49 -49 -49 -49]\n",
      " [-49 -49 -49 -49 -49 -49 -48 -48]\n",
      " [-49 -49 -49 -49 -48 -47 -47 -47]\n",
      " [-49 -49 -48 -47 -46 -45 -44 -44]\n",
      " [-48 -48 -47 -44 -42 -40 -39 -39]\n",
      " [-48 -48 -46 -42 -34 -31 -31 -35]\n",
      " [-48 -48 -45 -41 -31   0 -27 -33]]\n",
      "\n",
      " Improving policy:\n",
      "policy diff: False\n",
      "\n",
      "\n",
      "______iteration: 2 ______\n",
      "\n",
      " policy:\n",
      "[['↑', '←', '←', '←', '→', '→', '→', '↑'],\n",
      " ['↑', '↖', '↖', '↖', '↗', '↗', '↗', '↑'],\n",
      " ['↑', '↖', '↘', '↘', '↘', '↘', '↘', '↓'],\n",
      " ['↓', '↘', '↘', '↘', '↘', '↘', '↘', '↓'],\n",
      " ['↘', '↘', '↘', '↘', '↘', '↘', '↓', '↙'],\n",
      " ['↘', '↘', '↘', '↘', '↘', '↘', '↓', '↙'],\n",
      " ['↘', '↘', '↘', '↘', '↘', '↓', '↙', '↙'],\n",
      " ['→', '→', '→', '→', '→', 'F', '←', '←']]\n",
      "\n",
      "Value function for this policy:\n",
      "[[-11 -11 -11 -11 -11 -11 -11 -11]\n",
      " [-11 -11 -11 -11 -11 -11 -11 -11]\n",
      " [-11 -11  -4  -4  -4  -4  -4  -4]\n",
      " [ -5  -3  -3  -3  -3  -3  -3  -3]\n",
      " [ -4  -3  -3  -3  -3  -3  -3  -3]\n",
      " [ -4  -3  -3  -2  -2  -2  -2  -2]\n",
      " [ -4  -3  -3  -2  -1  -1  -1  -2]\n",
      " [ -4  -3  -3  -2  -1   0  -1  -2]]\n",
      "\n",
      " Improving policy:\n",
      "policy diff: False\n",
      "\n",
      "\n",
      "______iteration: 3 ______\n",
      "\n",
      " policy:\n",
      "[['↑', '↑', '↑', '↑', '↙', '↑', '↑', '↑'],\n",
      " ['↑', '↘', '↘', '↘', '↘', '↘', '↘', '↓'],\n",
      " ['↘', '↘', '↘', '↘', '↘', '↘', '↘', '↓'],\n",
      " ['→', '↘', '↘', '↘', '↘', '↘', '↘', '↓'],\n",
      " ['↗', '→', '↘', '↘', '↘', '↘', '↘', '↓'],\n",
      " ['↗', '↗', '→', '↘', '↘', '↘', '↓', '↙'],\n",
      " ['↗', '↗', '↗', '→', '↘', '↓', '↙', '↙'],\n",
      " ['↗', '↗', '↗', '↗', '→', 'F', '←', '←']]\n",
      "\n",
      "Value function for this policy:\n",
      "[[-7 -6 -6 -6 -6 -6 -6 -6]\n",
      " [-6 -5 -5 -5 -5 -5 -5 -5]\n",
      " [-4 -4 -4 -4 -4 -4 -4 -4]\n",
      " [-4 -3 -3 -3 -3 -3 -3 -3]\n",
      " [-4 -3 -3 -3 -3 -3 -3 -3]\n",
      " [-4 -3 -3 -2 -2 -2 -2 -2]\n",
      " [-4 -3 -3 -2 -1 -1 -1 -2]\n",
      " [-4 -3 -3 -2 -1  0 -1 -2]]\n",
      "\n",
      " Improving policy:\n",
      "policy diff: False\n",
      "\n",
      "\n",
      "______iteration: 4 ______\n",
      "\n",
      " policy:\n",
      "[['↘', '↘', '↘', '↘', '↘', '↘', '↘', '↓'],\n",
      " ['↘', '↘', '↘', '↘', '↘', '↘', '↓', '↙'],\n",
      " ['↘', '↘', '↘', '↘', '↘', '↘', '↘', '↓'],\n",
      " ['→', '↘', '↘', '↘', '↘', '↘', '↘', '↓'],\n",
      " ['↗', '→', '↘', '↘', '↘', '↘', '↘', '↓'],\n",
      " ['↗', '↗', '→', '↘', '↘', '↘', '↓', '↙'],\n",
      " ['↗', '↗', '↗', '→', '↘', '↓', '↙', '↙'],\n",
      " ['↗', '↗', '↗', '↗', '→', 'F', '←', '←']]\n",
      "\n",
      "Value function for this policy:\n",
      "[[-5 -5 -5 -5 -5 -5 -5 -5]\n",
      " [-5 -5 -5 -5 -5 -5 -5 -5]\n",
      " [-4 -4 -4 -4 -4 -4 -4 -4]\n",
      " [-4 -3 -3 -3 -3 -3 -3 -3]\n",
      " [-4 -3 -3 -3 -3 -3 -3 -3]\n",
      " [-4 -3 -3 -2 -2 -2 -2 -2]\n",
      " [-4 -3 -3 -2 -1 -1 -1 -2]\n",
      " [-4 -3 -3 -2 -1  0 -1 -2]]\n",
      "\n",
      " Improving policy:\n",
      "policy diff: False\n",
      "\n",
      "\n",
      "______iteration: 5 ______\n",
      "\n",
      " policy:\n",
      "[['↘', '↘', '↘', '↘', '↘', '↘', '↘', '↓'],\n",
      " ['↘', '↘', '↘', '↘', '↘', '↘', '↓', '↙'],\n",
      " ['↘', '↘', '↘', '↘', '↘', '↘', '↘', '↓'],\n",
      " ['→', '↘', '↘', '↘', '↘', '↘', '↘', '↓'],\n",
      " ['↗', '→', '↘', '↘', '↘', '↘', '↘', '↓'],\n",
      " ['↗', '↗', '→', '↘', '↘', '↘', '↓', '↙'],\n",
      " ['↗', '↗', '↗', '→', '↘', '↓', '↙', '↙'],\n",
      " ['↗', '↗', '↗', '↗', '→', 'F', '←', '←']]\n",
      "\n",
      "Value function for this policy:\n",
      "[[-5 -5 -5 -5 -5 -5 -5 -5]\n",
      " [-5 -5 -5 -5 -5 -5 -5 -5]\n",
      " [-4 -4 -4 -4 -4 -4 -4 -4]\n",
      " [-4 -3 -3 -3 -3 -3 -3 -3]\n",
      " [-4 -3 -3 -3 -3 -3 -3 -3]\n",
      " [-4 -3 -3 -2 -2 -2 -2 -2]\n",
      " [-4 -3 -3 -2 -1 -1 -1 -2]\n",
      " [-4 -3 -3 -2 -1  0 -1 -2]]\n",
      "\n",
      " Improving policy:\n",
      "policy diff: True\n",
      "Optimal policy found in 5 steps of policy evaluation\n"
     ]
    }
   ],
   "source": [
    "r.policy_iteration(gamma=1,synchronous=False)"
   ]
  },
  {
   "cell_type": "code",
   "execution_count": 23,
   "metadata": {},
   "outputs": [
    {
     "data": {
      "text/plain": [
       "array([[-5, -5, -5, -5, -5, -5, -5, -5],\n",
       "       [-4, -4, -4, -4, -4, -4, -4, -4],\n",
       "       [-4, -4, -4, -4, -4, -4, -4, -4],\n",
       "       [-4, -3, -3, -3, -3, -3, -3, -3],\n",
       "       [-4, -3, -2, -2, -2, -2, -2, -2],\n",
       "       [-4, -3, -2, -1, -1, -1, -1, -1],\n",
       "       [-4, -3, -2, -1, -1, -1, -1, -1],\n",
       "       [-4, -3, -2, -1, -1,  0, -1, -1]])"
      ]
     },
     "execution_count": 23,
     "metadata": {},
     "output_type": "execute_result"
    }
   ],
   "source": [
    "r.agent.value_function.astype(int)"
   ]
  },
  {
   "cell_type": "markdown",
   "metadata": {},
   "source": [
    "# 1.5 Value Iteration"
   ]
  },
  {
   "cell_type": "markdown",
   "metadata": {},
   "source": [
    "** Theory **  \n",
    "Value iteration is nothing more than a simple parameter modification to policy iteration. Remember that policy iteration consists of policy evaluation and policy improvement. The policy evaluation step does not necessarily have to be repeated until convergence before we improve our policy. Recall that the policy iteration above took over 400 iterations to converge. If we use ony 1 iteration instead we call it value iteration."
   ]
  },
  {
   "cell_type": "markdown",
   "metadata": {},
   "source": [
    "**Demonstration**"
   ]
  },
  {
   "cell_type": "code",
   "execution_count": 24,
   "metadata": {},
   "outputs": [
    {
     "name": "stdout",
     "output_type": "stream",
     "text": [
      "\n",
      "\n",
      "______iteration: 1 ______\n",
      "\n",
      " policy:\n",
      "[['↑', '↑', '↑', '↑', '↑', '↑', '↑', '↑'],\n",
      " ['↑', '↑', '↑', '↑', '↑', '↑', '↑', '↑'],\n",
      " ['↑', '↑', '↑', '↑', '↑', '↑', '↑', '↑'],\n",
      " ['↑', '↑', '↑', '↑', '↑', '↑', '↑', '↑'],\n",
      " ['↑', '↑', '↑', '↑', '↑', '↑', '↑', '↑'],\n",
      " ['↑', '↑', '↑', '↑', '↑', '↑', '↑', '↑'],\n",
      " ['↑', '↑', '↑', '↑', '↑', '↑', '↑', '↑'],\n",
      " ['↑', '↑', '↑', '↑', '↑', 'F', '↑', '↑']]\n",
      "\n",
      "Value function for this policy:\n",
      "[[-1 -1 -1 -1 -1 -1 -1 -1]\n",
      " [-1 -1 -1 -1 -1 -1 -1 -1]\n",
      " [-1 -1 -1 -1 -1 -1 -1 -1]\n",
      " [-1 -1 -1 -1 -1 -1 -1 -1]\n",
      " [-1 -1 -1 -1 -1 -1 -1 -1]\n",
      " [-1 -1 -1 -1 -1 -1 -1 -1]\n",
      " [-1 -1 -1 -1 -1 -1 -1 -1]\n",
      " [-1 -1 -1 -1 -1  0 -1 -1]]\n",
      "\n",
      " Improving policy:\n",
      "policy diff: False\n",
      "\n",
      "\n",
      "______iteration: 2 ______\n",
      "\n",
      " policy:\n",
      "[['↑', '↑', '↑', '↑', '↑', '↓', '↑', '↑'],\n",
      " ['↑', '↑', '↑', '↑', '↑', '↓', '↑', '↑'],\n",
      " ['↑', '↑', '↑', '↑', '↑', '↓', '↑', '↑'],\n",
      " ['↑', '↑', '↑', '↑', '↑', '↓', '↑', '↑'],\n",
      " ['↑', '↑', '↑', '↑', '↑', '↓', '↑', '↑'],\n",
      " ['↑', '↑', '↑', '↑', '↑', '↓', '↑', '↑'],\n",
      " ['↑', '↑', '↑', '↑', '↑', '↓', '↑', '↑'],\n",
      " ['→', '→', '→', '→', '→', 'F', '←', '←']]\n",
      "\n",
      "Value function for this policy:\n",
      "[[-6 -6 -6 -6 -6 -1 -6 -6]\n",
      " [-6 -6 -6 -6 -6 -1 -6 -6]\n",
      " [-6 -6 -6 -6 -6 -1 -6 -6]\n",
      " [-6 -6 -6 -6 -6 -1 -6 -6]\n",
      " [-6 -6 -6 -6 -6 -1 -6 -6]\n",
      " [-6 -6 -6 -6 -6 -1 -6 -6]\n",
      " [-6 -6 -6 -6 -6 -1 -6 -6]\n",
      " [-1 -1 -1 -1 -1  0 -1 -1]]\n",
      "\n",
      " Improving policy:\n",
      "policy diff: False\n",
      "\n",
      "\n",
      "______iteration: 3 ______\n",
      "\n",
      " policy:\n",
      "[['→', '→', '→', '→', '→', '↓', '←', '←'],\n",
      " ['→', '→', '→', '→', '→', '↓', '←', '←'],\n",
      " ['→', '→', '→', '→', '→', '↓', '←', '←'],\n",
      " ['↓', '→', '→', '→', '→', '↓', '←', '←'],\n",
      " ['↓', '↓', '→', '→', '→', '↓', '←', '←'],\n",
      " ['↓', '↓', '↓', '→', '→', '↓', '←', '↓'],\n",
      " ['↓', '↓', '↓', '↓', '→', '↓', '↓', '↓'],\n",
      " ['→', '→', '→', '→', '→', 'F', '←', '←']]\n",
      "\n",
      "Value function for this policy:\n",
      "[[-2 -2 -2 -2 -2 -1 -2 -2]\n",
      " [-2 -2 -2 -2 -2 -1 -2 -2]\n",
      " [-2 -2 -2 -2 -2 -1 -2 -2]\n",
      " [-2 -2 -2 -2 -2 -1 -2 -2]\n",
      " [-2 -2 -2 -2 -2 -1 -2 -2]\n",
      " [-2 -2 -2 -2 -2 -1 -2 -2]\n",
      " [-2 -2 -2 -2 -2 -1 -2 -2]\n",
      " [-1 -1 -1 -1 -1  0 -1 -1]]\n",
      "\n",
      " Improving policy:\n",
      "policy diff: False\n",
      "\n",
      "\n",
      "______iteration: 4 ______\n",
      "\n",
      " policy:\n",
      "[['→', '→', '→', '→', '→', '↓', '←', '←'],\n",
      " ['→', '→', '→', '→', '→', '↓', '←', '←'],\n",
      " ['→', '→', '→', '→', '→', '↓', '←', '←'],\n",
      " ['↓', '→', '→', '→', '→', '↓', '←', '←'],\n",
      " ['↓', '↓', '→', '→', '→', '↓', '←', '←'],\n",
      " ['↓', '↓', '↓', '→', '→', '↓', '←', '↓'],\n",
      " ['↓', '↓', '↓', '↓', '→', '↓', '↓', '↓'],\n",
      " ['→', '→', '→', '→', '→', 'F', '←', '←']]\n",
      "\n",
      "Value function for this policy:\n",
      "[[-2 -2 -2 -2 -2 -1 -2 -2]\n",
      " [-2 -2 -2 -2 -2 -1 -2 -2]\n",
      " [-2 -2 -2 -2 -2 -1 -2 -2]\n",
      " [-2 -2 -2 -2 -2 -1 -2 -2]\n",
      " [-2 -2 -2 -2 -2 -1 -2 -2]\n",
      " [-2 -2 -2 -2 -2 -1 -2 -2]\n",
      " [-2 -2 -2 -2 -2 -1 -2 -2]\n",
      " [-1 -1 -1 -1 -1  0 -1 -1]]\n",
      "\n",
      " Improving policy:\n",
      "policy diff: True\n",
      "Optimal policy found in 4 steps of policy evaluation\n"
     ]
    }
   ],
   "source": [
    "agent = Piece(piece='rook')  # Let's pick a rook for a change.\n",
    "r = Reinforce(agent,env)\n",
    "r.policy_iteration(k=1,gamma=1)  # The only difference here is that we set k_max to 1."
   ]
  },
  {
   "cell_type": "markdown",
   "metadata": {},
   "source": [
    "# That's all!\n",
    "In the next notebook I'll cover model-free methods such as Monte Carlo and Temporal Difference based methods. These methods help us when we don't know the transition probalities of a Markov Decision Process. \n",
    "\n",
    "I expect to have my second RLC notebook up and running around mid-june!\n",
    "Hope you enjoyed!"
   ]
  },
  {
   "cell_type": "markdown",
   "metadata": {},
   "source": [
    "# References"
   ]
  },
  {
   "cell_type": "markdown",
   "metadata": {},
   "source": [
    "1. Reinforcement Learning: An Introduction  \n",
    "   Richard S. Sutton and Andrew G. Barto  \n",
    "   1st Edition  \n",
    "   MIT Press, march 1998\n",
    "2. RL Course by David Silver: Lecture playlist  \n",
    "   https://www.youtube.com/watch?v=2pWv7GOvuf0&list=PLqYmG7hTraZDM-OYHWgPebj2MfCFzFObQ"
   ]
  },
  {
   "cell_type": "code",
   "execution_count": null,
   "metadata": {},
   "outputs": [],
   "source": []
  }
 ],
 "metadata": {
  "kernelspec": {
   "display_name": "Python 3",
   "language": "python",
   "name": "python3"
  },
  "language_info": {
   "codemirror_mode": {
    "name": "ipython",
    "version": 3
   },
   "file_extension": ".py",
   "mimetype": "text/x-python",
   "name": "python",
   "nbconvert_exporter": "python",
   "pygments_lexer": "ipython3",
   "version": "3.6.6"
  }
 },
 "nbformat": 4,
 "nbformat_minor": 1
}
